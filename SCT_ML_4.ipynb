{
 "cells": [
  {
   "cell_type": "code",
   "execution_count": 1,
   "id": "b68dac28",
   "metadata": {},
   "outputs": [],
   "source": [
    "import os\n",
    "import numpy as np\n",
    "import cv2\n",
    "from tensorflow.keras.utils import to_categorical\n",
    "from tensorflow.keras.models import Sequential\n",
    "from tensorflow.keras.layers import Conv2D, MaxPooling2D, Flatten, Dense, Dropout\n",
    "from sklearn.model_selection import train_test_split"
   ]
  },
  {
   "cell_type": "code",
   "execution_count": 6,
   "id": "2c04a269",
   "metadata": {},
   "outputs": [
    {
     "name": "stdout",
     "output_type": "stream",
     "text": [
      "✅ Dataset loaded successfully!\n",
      "X shape: (20000, 64, 64, 1)\n",
      "y shape: (20000, 10)\n",
      "Gesture Labels Mapping: {'01_palm': 0, '02_l': 1, '03_fist': 2, '04_fist_moved': 3, '05_thumb': 4, '06_index': 5, '07_ok': 6, '08_palm_moved': 7, '09_c': 8, '10_down': 9}\n"
     ]
    }
   ],
   "source": [
    "import os\n",
    "import cv2\n",
    "import numpy as np\n",
    "from tensorflow.keras.utils import to_categorical\n",
    "from sklearn.model_selection import train_test_split\n",
    "\n",
    "# ✅ Correct dataset path\n",
    "data_dir = r\"C:\\Users\\USER\\OneDrive\\Desktop\\skillup\\task_04\\leapGestRecog\"\n",
    "\n",
    "X = []\n",
    "y = []\n",
    "labels_dict = {}  # Map gesture names to numeric IDs\n",
    "label_id = 0\n",
    "\n",
    "# Loop through subjects (00, 01, 02, ...)\n",
    "for subject in sorted(os.listdir(data_dir)):\n",
    "    subject_path = os.path.join(data_dir, subject)\n",
    "    if not os.path.isdir(subject_path):\n",
    "        continue\n",
    "    \n",
    "    # Loop through gesture folders (01_palm, 02_l, ...)\n",
    "    for gesture_folder in sorted(os.listdir(subject_path)):\n",
    "        gesture_path = os.path.join(subject_path, gesture_folder)\n",
    "        if not os.path.isdir(gesture_path):\n",
    "            continue\n",
    "        \n",
    "        # Assign numeric ID if new gesture\n",
    "        if gesture_folder not in labels_dict:\n",
    "            labels_dict[gesture_folder] = label_id\n",
    "            label_id += 1\n",
    "        \n",
    "        # Load images\n",
    "        for img_file in os.listdir(gesture_path):\n",
    "            img_path = os.path.join(gesture_path, img_file)\n",
    "            img = cv2.imread(img_path, cv2.IMREAD_GRAYSCALE)\n",
    "            if img is None:\n",
    "                continue\n",
    "            img = cv2.resize(img, (64,64))  # resize for CNN\n",
    "            X.append(img)\n",
    "            y.append(labels_dict[gesture_folder])\n",
    "\n",
    "# Convert to arrays\n",
    "X = np.array(X).reshape(-1, 64, 64, 1) / 255.0\n",
    "y = to_categorical(y, num_classes=len(labels_dict))\n",
    "\n",
    "# Train-test split\n",
    "X_train, X_test, y_train, y_test = train_test_split(X, y, test_size=0.2, random_state=42)\n",
    "\n",
    "print(\"✅ Dataset loaded successfully!\")\n",
    "print(\"X shape:\", X.shape)\n",
    "print(\"y shape:\", y.shape)\n",
    "print(\"Gesture Labels Mapping:\", labels_dict)\n"
   ]
  },
  {
   "cell_type": "code",
   "execution_count": 7,
   "id": "82ac5cab",
   "metadata": {},
   "outputs": [
    {
     "name": "stderr",
     "output_type": "stream",
     "text": [
      "C:\\Users\\USER\\AppData\\Roaming\\Python\\Python312\\site-packages\\keras\\src\\layers\\convolutional\\base_conv.py:113: UserWarning: Do not pass an `input_shape`/`input_dim` argument to a layer. When using Sequential models, prefer using an `Input(shape)` object as the first layer in the model instead.\n",
      "  super().__init__(activity_regularizer=activity_regularizer, **kwargs)\n"
     ]
    },
    {
     "name": "stdout",
     "output_type": "stream",
     "text": [
      "Epoch 1/15\n",
      "\u001b[1m500/500\u001b[0m \u001b[32m━━━━━━━━━━━━━━━━━━━━\u001b[0m\u001b[37m\u001b[0m \u001b[1m58s\u001b[0m 108ms/step - accuracy: 0.8959 - loss: 0.3176 - val_accuracy: 0.9992 - val_loss: 0.0025\n",
      "Epoch 2/15\n",
      "\u001b[1m500/500\u001b[0m \u001b[32m━━━━━━━━━━━━━━━━━━━━\u001b[0m\u001b[37m\u001b[0m \u001b[1m82s\u001b[0m 109ms/step - accuracy: 0.9926 - loss: 0.0243 - val_accuracy: 0.9992 - val_loss: 0.0017\n",
      "Epoch 3/15\n",
      "\u001b[1m500/500\u001b[0m \u001b[32m━━━━━━━━━━━━━━━━━━━━\u001b[0m\u001b[37m\u001b[0m \u001b[1m81s\u001b[0m 108ms/step - accuracy: 0.9962 - loss: 0.0121 - val_accuracy: 0.9998 - val_loss: 0.0014\n",
      "Epoch 4/15\n",
      "\u001b[1m500/500\u001b[0m \u001b[32m━━━━━━━━━━━━━━━━━━━━\u001b[0m\u001b[37m\u001b[0m \u001b[1m54s\u001b[0m 108ms/step - accuracy: 0.9960 - loss: 0.0138 - val_accuracy: 0.9990 - val_loss: 0.0050\n",
      "Epoch 5/15\n",
      "\u001b[1m500/500\u001b[0m \u001b[32m━━━━━━━━━━━━━━━━━━━━\u001b[0m\u001b[37m\u001b[0m \u001b[1m82s\u001b[0m 108ms/step - accuracy: 0.9966 - loss: 0.0118 - val_accuracy: 0.9995 - val_loss: 9.3890e-04\n",
      "Epoch 6/15\n",
      "\u001b[1m500/500\u001b[0m \u001b[32m━━━━━━━━━━━━━━━━━━━━\u001b[0m\u001b[37m\u001b[0m \u001b[1m90s\u001b[0m 124ms/step - accuracy: 0.9974 - loss: 0.0072 - val_accuracy: 1.0000 - val_loss: 1.7654e-04\n",
      "Epoch 7/15\n",
      "\u001b[1m500/500\u001b[0m \u001b[32m━━━━━━━━━━━━━━━━━━━━\u001b[0m\u001b[37m\u001b[0m \u001b[1m57s\u001b[0m 114ms/step - accuracy: 0.9987 - loss: 0.0051 - val_accuracy: 1.0000 - val_loss: 2.8319e-05\n",
      "Epoch 8/15\n",
      "\u001b[1m500/500\u001b[0m \u001b[32m━━━━━━━━━━━━━━━━━━━━\u001b[0m\u001b[37m\u001b[0m \u001b[1m57s\u001b[0m 114ms/step - accuracy: 0.9975 - loss: 0.0074 - val_accuracy: 1.0000 - val_loss: 2.8551e-05\n",
      "Epoch 9/15\n",
      "\u001b[1m500/500\u001b[0m \u001b[32m━━━━━━━━━━━━━━━━━━━━\u001b[0m\u001b[37m\u001b[0m \u001b[1m96s\u001b[0m 141ms/step - accuracy: 0.9987 - loss: 0.0052 - val_accuracy: 1.0000 - val_loss: 1.2008e-04\n",
      "Epoch 10/15\n",
      "\u001b[1m500/500\u001b[0m \u001b[32m━━━━━━━━━━━━━━━━━━━━\u001b[0m\u001b[37m\u001b[0m \u001b[1m71s\u001b[0m 119ms/step - accuracy: 0.9981 - loss: 0.0057 - val_accuracy: 0.9995 - val_loss: 0.0012\n",
      "Epoch 11/15\n",
      "\u001b[1m500/500\u001b[0m \u001b[32m━━━━━━━━━━━━━━━━━━━━\u001b[0m\u001b[37m\u001b[0m \u001b[1m60s\u001b[0m 119ms/step - accuracy: 0.9976 - loss: 0.0067 - val_accuracy: 1.0000 - val_loss: 4.2403e-05\n",
      "Epoch 12/15\n",
      "\u001b[1m500/500\u001b[0m \u001b[32m━━━━━━━━━━━━━━━━━━━━\u001b[0m\u001b[37m\u001b[0m \u001b[1m78s\u001b[0m 110ms/step - accuracy: 0.9987 - loss: 0.0038 - val_accuracy: 1.0000 - val_loss: 4.4557e-05\n",
      "Epoch 13/15\n",
      "\u001b[1m500/500\u001b[0m \u001b[32m━━━━━━━━━━━━━━━━━━━━\u001b[0m\u001b[37m\u001b[0m \u001b[1m84s\u001b[0m 114ms/step - accuracy: 0.9992 - loss: 0.0028 - val_accuracy: 0.9998 - val_loss: 4.4067e-04\n",
      "Epoch 14/15\n",
      "\u001b[1m500/500\u001b[0m \u001b[32m━━━━━━━━━━━━━━━━━━━━\u001b[0m\u001b[37m\u001b[0m \u001b[1m79s\u001b[0m 108ms/step - accuracy: 0.9990 - loss: 0.0029 - val_accuracy: 1.0000 - val_loss: 7.9805e-05\n",
      "Epoch 15/15\n",
      "\u001b[1m500/500\u001b[0m \u001b[32m━━━━━━━━━━━━━━━━━━━━\u001b[0m\u001b[37m\u001b[0m \u001b[1m86s\u001b[0m 114ms/step - accuracy: 0.9975 - loss: 0.0087 - val_accuracy: 1.0000 - val_loss: 2.9663e-05\n"
     ]
    },
    {
     "name": "stderr",
     "output_type": "stream",
     "text": [
      "WARNING:absl:You are saving your model as an HDF5 file via `model.save()` or `keras.saving.save_model(model)`. This file format is considered legacy. We recommend using instead the native Keras format, e.g. `model.save('my_model.keras')` or `keras.saving.save_model(model, 'my_model.keras')`. \n"
     ]
    },
    {
     "name": "stdout",
     "output_type": "stream",
     "text": [
      "✅ Model trained and saved as hand_gesture_model.h5\n"
     ]
    }
   ],
   "source": [
    "import tensorflow as tf\n",
    "from tensorflow.keras.models import Sequential\n",
    "from tensorflow.keras.layers import Conv2D, MaxPooling2D, Flatten, Dense, Dropout\n",
    "\n",
    "# Number of gesture classes\n",
    "num_classes = y.shape[1]\n",
    "\n",
    "# Build CNN\n",
    "model = Sequential([\n",
    "    Conv2D(32, (3,3), activation='relu', input_shape=(64,64,1)),\n",
    "    MaxPooling2D(2,2),\n",
    "    \n",
    "    Conv2D(64, (3,3), activation='relu'),\n",
    "    MaxPooling2D(2,2),\n",
    "    \n",
    "    Conv2D(128, (3,3), activation='relu'),\n",
    "    MaxPooling2D(2,2),\n",
    "    \n",
    "    Flatten(),\n",
    "    Dense(256, activation='relu'),\n",
    "    Dropout(0.5),\n",
    "    Dense(num_classes, activation='softmax')\n",
    "])\n",
    "\n",
    "# Compile\n",
    "model.compile(optimizer='adam', loss='categorical_crossentropy', metrics=['accuracy'])\n",
    "\n",
    "# Train\n",
    "history = model.fit(X_train, y_train,\n",
    "                    validation_data=(X_test, y_test),\n",
    "                    epochs=15,\n",
    "                    batch_size=32)\n",
    "\n",
    "# Save the trained model\n",
    "model.save(\"hand_gesture_model.h5\")\n",
    "\n",
    "print(\"✅ Model trained and saved as hand_gesture_model.h5\")\n"
   ]
  },
  {
   "cell_type": "code",
   "execution_count": 8,
   "id": "bbfafa85",
   "metadata": {},
   "outputs": [
    {
     "name": "stdout",
     "output_type": "stream",
     "text": [
      "✅ Gesture labels saved in gesture_labels.json\n"
     ]
    }
   ],
   "source": [
    "import json\n",
    "\n",
    "# Save gesture label mapping\n",
    "with open(\"gesture_labels.json\", \"w\") as f:\n",
    "    json.dump(labels_dict, f)\n",
    "\n",
    "print(\"✅ Gesture labels saved in gesture_labels.json\")\n"
   ]
  },
  {
   "cell_type": "code",
   "execution_count": null,
   "id": "01c3a4b9",
   "metadata": {},
   "outputs": [
    {
     "name": "stderr",
     "output_type": "stream",
     "text": [
      "WARNING:absl:Compiled the loaded model, but the compiled metrics have yet to be built. `model.compile_metrics` will be empty until you train or evaluate the model.\n"
     ]
    },
    {
     "ename": "KeyboardInterrupt",
     "evalue": "",
     "output_type": "error",
     "traceback": [
      "\u001b[1;31m---------------------------------------------------------------------------\u001b[0m",
      "\u001b[1;31mKeyboardInterrupt\u001b[0m                         Traceback (most recent call last)",
      "Cell \u001b[1;32mIn[3], line 17\u001b[0m\n\u001b[0;32m     14\u001b[0m id_to_label \u001b[38;5;241m=\u001b[39m {v: k \u001b[38;5;28;01mfor\u001b[39;00m k, v \u001b[38;5;129;01min\u001b[39;00m labels_dict\u001b[38;5;241m.\u001b[39mitems()}\n\u001b[0;32m     16\u001b[0m \u001b[38;5;66;03m# Open webcam\u001b[39;00m\n\u001b[1;32m---> 17\u001b[0m cap \u001b[38;5;241m=\u001b[39m \u001b[43mcv2\u001b[49m\u001b[38;5;241;43m.\u001b[39;49m\u001b[43mVideoCapture\u001b[49m\u001b[43m(\u001b[49m\u001b[38;5;241;43m0\u001b[39;49m\u001b[43m)\u001b[49m\n\u001b[0;32m     19\u001b[0m \u001b[38;5;28mprint\u001b[39m(\u001b[38;5;124m\"\u001b[39m\u001b[38;5;124m✅ Webcam started. Press \u001b[39m\u001b[38;5;124m'\u001b[39m\u001b[38;5;124mq\u001b[39m\u001b[38;5;124m'\u001b[39m\u001b[38;5;124m to quit.\u001b[39m\u001b[38;5;124m\"\u001b[39m)\n\u001b[0;32m     21\u001b[0m \u001b[38;5;28;01mwhile\u001b[39;00m \u001b[38;5;28;01mTrue\u001b[39;00m:\n",
      "\u001b[1;31mKeyboardInterrupt\u001b[0m: "
     ]
    },
    {
     "ename": "",
     "evalue": "",
     "output_type": "error",
     "traceback": [
      "\u001b[1;31mThe Kernel crashed while executing code in the current cell or a previous cell. \n",
      "\u001b[1;31mPlease review the code in the cell(s) to identify a possible cause of the failure. \n",
      "\u001b[1;31mClick <a href='https://aka.ms/vscodeJupyterKernelCrash'>here</a> for more info. \n",
      "\u001b[1;31mView Jupyter <a href='command:jupyter.viewOutput'>log</a> for further details."
     ]
    }
   ],
   "source": [
    "import cv2\n",
    "import numpy as np\n",
    "import json\n",
    "from tensorflow.keras.models import load_model\n",
    "\n",
    "# Load trained model\n",
    "model = load_model(\"hand_gesture_model.h5\")\n",
    "\n",
    "# Load gesture labels\n",
    "with open(\"gesture_labels.json\", \"r\") as f:\n",
    "    labels_dict = json.load(f)\n",
    "\n",
    "# Reverse mapping: ID -> gesture name\n",
    "id_to_label = {v: k for k, v in labels_dict.items()}\n",
    "\n",
    "# Open webcam\n",
    "cap = cv2.VideoCapture(0)\n",
    "\n",
    "print(\"✅ Webcam started. Press 'q' to quit.\")\n",
    "\n",
    "while True:\n",
    "    ret, frame = cap.read()\n",
    "    if not ret:\n",
    "        break\n",
    "\n",
    "    # Convert to grayscale\n",
    "    gray = cv2.cvtColor(frame, cv2.COLOR_BGR2GRAY)\n",
    "\n",
    "    # Resize to match training input\n",
    "    roi = cv2.resize(gray, (64,64))\n",
    "    roi = roi.reshape(1,64,64,1) / 255.0\n",
    "\n",
    "    # Prediction\n",
    "    prediction = model.predict(roi)\n",
    "    class_id = np.argmax(prediction)\n",
    "    label = id_to_label[class_id]\n",
    "\n",
    "    # Show result on frame\n",
    "    cv2.putText(frame, f\"Prediction: {label}\", (10,50),\n",
    "                cv2.FONT_HERSHEY_SIMPLEX, 1, (0,255,0), 2)\n",
    "    cv2.imshow(\"Hand Gesture Recognition\", frame)\n",
    "\n",
    "    # Press 'q' to quit\n",
    "    if cv2.waitKey(1) & 0xFF == ord(\"q\"):\n",
    "        break\n",
    "\n",
    "cap.release()\n",
    "cv2.destroyAllWindows()\n"
   ]
  }
 ],
 "metadata": {
  "kernelspec": {
   "display_name": "Python 3",
   "language": "python",
   "name": "python3"
  },
  "language_info": {
   "codemirror_mode": {
    "name": "ipython",
    "version": 3
   },
   "file_extension": ".py",
   "mimetype": "text/x-python",
   "name": "python",
   "nbconvert_exporter": "python",
   "pygments_lexer": "ipython3",
   "version": "3.12.4"
  }
 },
 "nbformat": 4,
 "nbformat_minor": 5
}
